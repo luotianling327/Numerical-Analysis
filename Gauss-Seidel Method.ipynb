{
 "cells": [
  {
   "cell_type": "code",
   "execution_count": 2,
   "metadata": {},
   "outputs": [
    {
     "name": "stdout",
     "output_type": "stream",
     "text": [
      "0\t0.000000\t0.000000\t0.000000\n",
      "\n",
      "1\t-0.200000\t0.155556\t-0.530159\n",
      "\n",
      "2\t0.180317\t0.341235\t-0.474548\n",
      "\n",
      "3\t0.221222\t0.348691\t-0.464991\n",
      "\n",
      "4\t0.218471\t0.346711\t-0.465212\n",
      "\n",
      "5\t0.217812\t0.346516\t-0.465344\n",
      "\n",
      "6\t0.217813\t0.346531\t-0.465348\n",
      "\n",
      "7\t0.217821\t0.346535\t-0.465347\n",
      "\n",
      "8\t0.217822\t0.346535\t-0.465347\n",
      "\n",
      "9\t0.217822\t0.346535\t-0.465347\n",
      "\n",
      "10\t0.217822\t0.346535\t-0.465347\n",
      "\n",
      "\n",
      "Solution: x1 = 0.217822, x2 = 0.346535 and x3 = -0.465347\n",
      "\n"
     ]
    }
   ],
   "source": [
    "# MATH3601 Assignment2 Q5(2); Name: Luo Tianling; UID: 3035447178\n",
    "# Gauss-Seidel Method\n",
    "# exact solution: \n",
    "# x1=22/101=0.217821782, x2=35/101=0.346534653, x3=-47/101=-0.465346534\n",
    "\n",
    "# define three equations\n",
    "def func1(x2, x3):\n",
    "    x1=(-1+2*x2-3*x3)/5\n",
    "    return x1\n",
    "\n",
    "def func2(x1, x3):\n",
    "    x2=(2+3*x1-x3)/9\n",
    "    return x2\n",
    "\n",
    "def func3(x1, x2):\n",
    "    x3=(-3+2*x1-2*x2)/7\n",
    "    return x3\n",
    "\n",
    "# initial value\n",
    "x1=0\n",
    "x2=0\n",
    "x3=0\n",
    "count=0\n",
    "print('%d\\t%0.6f\\t%0.6f\\t%0.6f\\n' %(count, x1,x2,x3))\n",
    "\n",
    "while (count<10):\n",
    "    x1=func1(x2, x3)\n",
    "    x2=func2(x1, x3)\n",
    "    x3=func3(x1, x2)\n",
    "    # increment on count\n",
    "    count+=1\n",
    "    \n",
    "    # output\n",
    "    print('%d\\t%0.6f\\t%0.6f\\t%0.6f\\n' %(count, x1,x2,x3))\n",
    "    \n",
    "print('\\nSolution: x1 = %0.6f, x2 = %0.6f and x3 = %0.6f\\n'% \n",
    "      (0.217821782, 0.346534653, -0.465346534))"
   ]
  },
  {
   "cell_type": "code",
   "execution_count": null,
   "metadata": {},
   "outputs": [],
   "source": []
  }
 ],
 "metadata": {
  "kernelspec": {
   "display_name": "Python 3",
   "language": "python",
   "name": "python3"
  },
  "language_info": {
   "codemirror_mode": {
    "name": "ipython",
    "version": 3
   },
   "file_extension": ".py",
   "mimetype": "text/x-python",
   "name": "python",
   "nbconvert_exporter": "python",
   "pygments_lexer": "ipython3",
   "version": "3.6.4"
  }
 },
 "nbformat": 4,
 "nbformat_minor": 2
}

{
 "cells": [
  {
   "cell_type": "code",
   "execution_count": 5,
   "metadata": {},
   "outputs": [
    {
     "name": "stdout",
     "output_type": "stream",
     "text": [
      "0\t0.000000\t0.000000\t0.000000\n",
      "\n",
      "1\t-0.200000\t0.222222\t-0.428571\n",
      "\n",
      "2\t0.146032\t0.203175\t-0.549206\n",
      "\n",
      "3\t0.210794\t0.331922\t-0.444898\n",
      "\n",
      "4\t0.199708\t0.341920\t-0.463180\n",
      "\n",
      "5\t0.214676\t0.340256\t-0.469203\n",
      "\n",
      "6\t0.217624\t0.345915\t-0.464451\n",
      "\n",
      "7\t0.217037\t0.346369\t-0.465226\n",
      "\n",
      "8\t0.217683\t0.346260\t-0.465524\n",
      "\n",
      "9\t0.217818\t0.346508\t-0.465308\n",
      "\n",
      "10\t0.217788\t0.346529\t-0.465340\n",
      "\n",
      "\n",
      "Solution: x1 = 0.217822, x2 = 0.346535 and x3 = -0.465347\n",
      "\n"
     ]
    }
   ],
   "source": [
    "# MATH3601 Assignment2 Q5(2); Name: Luo Tianling; UID: 3035447178\n",
    "# Jacobi Method\n",
    "# exact solution: \n",
    "# x1=22/101=0.217821782, x2=35/101=0.346534653, x3=-47/101=-0.465346534\n",
    "\n",
    "# define three equations\n",
    "def func1(x2, x3):\n",
    "    x1=(-1+2*x2-3*x3)/5\n",
    "    return x1\n",
    "\n",
    "def func2(x1, x3):\n",
    "    x2=(2+3*x1-x3)/9\n",
    "    return x2\n",
    "\n",
    "def func3(x1, x2):\n",
    "    x3=(-3+2*x1-2*x2)/7\n",
    "    return x3\n",
    "\n",
    "# initial value\n",
    "x1_0=0\n",
    "x2_0=0\n",
    "x3_0=0\n",
    "count=0\n",
    "print('%d\\t%0.6f\\t%0.6f\\t%0.6f\\n' %(count, x1_0,x2_0,x3_0))\n",
    "\n",
    "while (count<10):\n",
    "    x1=func1(x2_0, x3_0)\n",
    "    x2=func2(x1_0, x3_0)\n",
    "    x3=func3(x1_0, x2_0)\n",
    "    # increment on count\n",
    "    count+=1\n",
    "    \n",
    "    # output\n",
    "    print('%d\\t%0.6f\\t%0.6f\\t%0.6f\\n' %(count, x1,x2,x3))\n",
    "    \n",
    "    x1_0=x1\n",
    "    x2_0=x2\n",
    "    x3_0=x3\n",
    "    \n",
    "print('\\nSolution: x1 = %0.6f, x2 = %0.6f and x3 = %0.6f\\n'% \n",
    "      (0.217821782, 0.346534653, -0.465346534))"
   ]
  },
  {
   "cell_type": "code",
   "execution_count": null,
   "metadata": {},
   "outputs": [],
   "source": []
  }
 ],
 "metadata": {
  "kernelspec": {
   "display_name": "Python 3",
   "language": "python",
   "name": "python3"
  },
  "language_info": {
   "codemirror_mode": {
    "name": "ipython",
    "version": 3
   },
   "file_extension": ".py",
   "mimetype": "text/x-python",
   "name": "python",
   "nbconvert_exporter": "python",
   "pygments_lexer": "ipython3",
   "version": "3.6.4"
  }
 },
 "nbformat": 4,
 "nbformat_minor": 2
}
